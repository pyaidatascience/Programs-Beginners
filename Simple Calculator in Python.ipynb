{
 "cells": [
  {
   "cell_type": "markdown",
   "id": "23efd32b",
   "metadata": {},
   "source": [
    "# Simple Calculator\n"
   ]
  },
  {
   "cell_type": "raw",
   "id": "8fceae3d",
   "metadata": {},
   "source": [
    "1 If else statement (conditional statement)\n",
    "\n",
    "2 input output statemtents\n",
    "\n",
    "3 Concatnation string\n",
    "\n",
    "4 Data type conversion"
   ]
  },
  {
   "cell_type": "code",
   "execution_count": 1,
   "id": "ec5d3c4f",
   "metadata": {},
   "outputs": [
    {
     "name": "stdout",
     "output_type": "stream",
     "text": [
      "60\n"
     ]
    }
   ],
   "source": [
    "# Simple addtion program\n",
    "\n",
    "num1 = 40\n",
    "num2 = 20\n",
    "# Addition of two numbers\n",
    "add = num1 + num2\n",
    "print(add)"
   ]
  },
  {
   "cell_type": "code",
   "execution_count": 3,
   "id": "81209d77",
   "metadata": {},
   "outputs": [
    {
     "name": "stdout",
     "output_type": "stream",
     "text": [
      "Enter here your first Number: 40\n",
      "Enter here your second number: 20\n",
      "Addition of 40 and 20 is 4020\n",
      "concatanation of string\n",
      "<class 'str'>\n"
     ]
    }
   ],
   "source": [
    "num1 = input('Enter here your first Number: ')\n",
    "num2 = input('Enter here your second number: ')\n",
    "\n",
    "# Addition\n",
    "addition = num1 + num2\n",
    "print(f'Addition of {num1} and {num2} is {addition}')\n",
    "print('concatanation of string')\n",
    "print(type(num1))"
   ]
  },
  {
   "cell_type": "code",
   "execution_count": 12,
   "id": "7db5d6fc",
   "metadata": {},
   "outputs": [
    {
     "name": "stdout",
     "output_type": "stream",
     "text": [
      "===========================================\n",
      "PYTHON PROGRAM FOR THE SIMPLE CALCULATOR\n",
      "==========================================\n",
      "\n",
      "Enter your desired operation here +, -, *, / : -\n",
      "\n",
      "Enter here your first Number: 200\n",
      "Enter here your second number: 90\n",
      "Substraction of 90.0 from 200.0 is 110.0\n",
      "Thank you for using calculator\n"
     ]
    }
   ],
   "source": [
    "# Python Program for the simple calculator\n",
    "\n",
    "print('===========================================')\n",
    "print('PYTHON PROGRAM FOR THE SIMPLE CALCULATOR')\n",
    "print('===========================================')\n",
    "print('')\n",
    "\n",
    "# Taking user input for the desired operation\n",
    "operator = input('Enter your desired operation here +, -, *, / : ')\n",
    "print('')\n",
    "num1 = float(input('Enter here your first Number: '))\n",
    "num2 = float(input('Enter here your second number: '))\n",
    "\n",
    "# Use of conditional statements for the operations\n",
    "\n",
    "if operator == '+':\n",
    "    # Perform addition\n",
    "    result = num1 + num2\n",
    "    print(f'Addition of {num1} and {num2} is {result}')\n",
    "elif operator == '-':\n",
    "    # Perform Substration\n",
    "    if num1 > num2:\n",
    "        result = num1 - num2\n",
    "        print(f'Substraction of {num2} from {num1} is {result}')\n",
    "    else:\n",
    "        result = num2 - num1\n",
    "        print(f'Substraction of {num1} from {num2} is {result}')\n",
    "elif operator == '*':\n",
    "    # Multiplication\n",
    "    result = num1 * num2\n",
    "    print(f'Multiplication of {num1} and {num2} is {result}')\n",
    "elif operator == '/':\n",
    "    # Division\n",
    "    result = num1 / num2\n",
    "    print('Division is : ', result)\n",
    "else:\n",
    "    print(f'{operator} is invalid input')\n",
    "    \n",
    "print('Thank you for using calculator')\n"
   ]
  },
  {
   "cell_type": "code",
   "execution_count": null,
   "id": "9224cd44",
   "metadata": {},
   "outputs": [],
   "source": []
  }
 ],
 "metadata": {
  "kernelspec": {
   "display_name": "Python 3 (ipykernel)",
   "language": "python",
   "name": "python3"
  },
  "language_info": {
   "codemirror_mode": {
    "name": "ipython",
    "version": 3
   },
   "file_extension": ".py",
   "mimetype": "text/x-python",
   "name": "python",
   "nbconvert_exporter": "python",
   "pygments_lexer": "ipython3",
   "version": "3.9.12"
  }
 },
 "nbformat": 4,
 "nbformat_minor": 5
}
